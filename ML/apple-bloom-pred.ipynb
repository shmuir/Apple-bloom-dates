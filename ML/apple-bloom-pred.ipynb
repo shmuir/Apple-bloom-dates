{
 "cells": [
  {
   "cell_type": "markdown",
   "metadata": {},
   "source": [
    "# ML notebook for apple bloom dates\n",
    "### Revisiting my REU project"
   ]
  },
  {
   "cell_type": "code",
   "execution_count": 2,
   "metadata": {},
   "outputs": [],
   "source": [
    "# Importing necessary libraries\n",
    "import numpy as np\n",
    "from sklearn.model_selection import train_test_split\n",
    "from sklearn.linear_model import LinearRegression\n",
    "from sklearn.metrics import mean_squared_error, r2_score\n",
    "import pandas as pd"
   ]
  },
  {
   "cell_type": "code",
   "execution_count": 32,
   "metadata": {},
   "outputs": [
    {
     "data": {
      "text/html": [
       "<div>\n",
       "<style scoped>\n",
       "    .dataframe tbody tr th:only-of-type {\n",
       "        vertical-align: middle;\n",
       "    }\n",
       "\n",
       "    .dataframe tbody tr th {\n",
       "        vertical-align: top;\n",
       "    }\n",
       "\n",
       "    .dataframe thead th {\n",
       "        text-align: right;\n",
       "    }\n",
       "</style>\n",
       "<table border=\"1\" class=\"dataframe\">\n",
       "  <thead>\n",
       "    <tr style=\"text-align: right;\">\n",
       "      <th></th>\n",
       "      <th>location</th>\n",
       "      <th>year</th>\n",
       "      <th>date_bloom</th>\n",
       "      <th>doy_bloom</th>\n",
       "      <th>temp_max</th>\n",
       "      <th>temp_min</th>\n",
       "    </tr>\n",
       "  </thead>\n",
       "  <tbody>\n",
       "    <tr>\n",
       "      <th>0</th>\n",
       "      <td>winchester</td>\n",
       "      <td>2019</td>\n",
       "      <td>23-Apr</td>\n",
       "      <td>113.0</td>\n",
       "      <td>23.3</td>\n",
       "      <td>8.3</td>\n",
       "    </tr>\n",
       "    <tr>\n",
       "      <th>1</th>\n",
       "      <td>winchester</td>\n",
       "      <td>2018</td>\n",
       "      <td>30-Apr</td>\n",
       "      <td>120.0</td>\n",
       "      <td>11.1</td>\n",
       "      <td>4.4</td>\n",
       "    </tr>\n",
       "    <tr>\n",
       "      <th>2</th>\n",
       "      <td>winchester</td>\n",
       "      <td>2017</td>\n",
       "      <td>15-Apr</td>\n",
       "      <td>105.0</td>\n",
       "      <td>22.8</td>\n",
       "      <td>8.3</td>\n",
       "    </tr>\n",
       "    <tr>\n",
       "      <th>3</th>\n",
       "      <td>winchester</td>\n",
       "      <td>2016</td>\n",
       "      <td>18-Apr</td>\n",
       "      <td>108.0</td>\n",
       "      <td>26.1</td>\n",
       "      <td>6.1</td>\n",
       "    </tr>\n",
       "    <tr>\n",
       "      <th>4</th>\n",
       "      <td>winchester</td>\n",
       "      <td>2015</td>\n",
       "      <td>24-Apr</td>\n",
       "      <td>114.0</td>\n",
       "      <td>12.2</td>\n",
       "      <td>2.2</td>\n",
       "    </tr>\n",
       "  </tbody>\n",
       "</table>\n",
       "</div>"
      ],
      "text/plain": [
       "     location  year date_bloom  doy_bloom  temp_max  temp_min\n",
       "0  winchester  2019     23-Apr      113.0      23.3       8.3\n",
       "1  winchester  2018     30-Apr      120.0      11.1       4.4\n",
       "2  winchester  2017     15-Apr      105.0      22.8       8.3\n",
       "3  winchester  2016     18-Apr      108.0      26.1       6.1\n",
       "4  winchester  2015     24-Apr      114.0      12.2       2.2"
      ]
     },
     "execution_count": 32,
     "metadata": {},
     "output_type": "execute_result"
    }
   ],
   "source": [
    "# Read in apple bloom data\n",
    "apple = pd.read_csv('../Data/cleaned/bloom_temps.csv')\n",
    "apple.dropna(inplace=True)\n",
    "apple.head()"
   ]
  },
  {
   "cell_type": "code",
   "execution_count": 70,
   "metadata": {},
   "outputs": [],
   "source": [
    "gdds = pd.read_csv('../Data/cleaned/apple_sum_gdds.csv')\n",
    "gdds[\"location\"].unique()\n",
    "\n",
    "gdds.dropna(inplace=True)\n"
   ]
  },
  {
   "cell_type": "code",
   "execution_count": 71,
   "metadata": {},
   "outputs": [],
   "source": [
    "# subset in to different sites\n",
    "winchester = gdds[gdds[\"location\"] == \"Winchester\"]\n",
    "hudson = gdds[gdds[\"location\"] == 'Hudson Valley']\n",
    "rocksprings = gdds[gdds[\"location\"] == \"Rock Springs\"]\n"
   ]
  },
  {
   "cell_type": "code",
   "execution_count": 93,
   "metadata": {},
   "outputs": [],
   "source": [
    "# Define features (X) and target variable (y)\n",
    "X = winchester[['mid_temp_7.22']]\n",
    "y = winchester['doy_fullbloom']"
   ]
  },
  {
   "cell_type": "code",
   "execution_count": 94,
   "metadata": {},
   "outputs": [],
   "source": [
    "# Split the data\n",
    "X_train, X_test, y_train, y_test = train_test_split(X, y, test_size=0.2, train_size=0.8,  random_state=42)"
   ]
  },
  {
   "cell_type": "markdown",
   "metadata": {},
   "source": [
    "## SVM"
   ]
  },
  {
   "cell_type": "code",
   "execution_count": 68,
   "metadata": {},
   "outputs": [],
   "source": [
    "from sklearn.svm import SVR\n",
    "from sklearn.metrics import mean_squared_error, r2_score"
   ]
  },
  {
   "cell_type": "code",
   "execution_count": 95,
   "metadata": {},
   "outputs": [
    {
     "name": "stdout",
     "output_type": "stream",
     "text": [
      "Mean Squared Error: 63.7804216945652\n",
      "R^2 Score: -0.8383768606080559\n"
     ]
    }
   ],
   "source": [
    "# Create and train the SVR model\n",
    "model = SVR(kernel='linear')  # You can choose different kernels such as 'linear', 'poly', or 'rbf'\n",
    "model.fit(X_train, y_train)\n",
    "\n",
    "# Make predictions on the testing set\n",
    "y_pred = model.predict(X_test)\n",
    "\n",
    "# Evaluate the model\n",
    "mse = mean_squared_error(y_test, y_pred)\n",
    "r2 = r2_score(y_test, y_pred)\n",
    "\n",
    "print(\"Mean Squared Error:\", mse)\n",
    "print(\"R^2 Score:\", r2)"
   ]
  },
  {
   "cell_type": "markdown",
   "metadata": {},
   "source": [
    "## Decision Tree"
   ]
  },
  {
   "cell_type": "code",
   "execution_count": 96,
   "metadata": {},
   "outputs": [
    {
     "name": "stdout",
     "output_type": "stream",
     "text": [
      "Mean Squared Error: 24.714285714285715\n",
      "R^2 Score: 0.28764705882352937\n"
     ]
    }
   ],
   "source": [
    "# Create and train the Decision Tree regression model\n",
    "model = DecisionTreeRegressor(max_depth=None, random_state=42)  # You can specify max_depth for controlling the depth of the tree\n",
    "model.fit(X_train, y_train)\n",
    "\n",
    "# Make predictions on the testing set\n",
    "y_pred = model.predict(X_test)\n",
    "\n",
    "# Evaluate the model\n",
    "mse = mean_squared_error(y_test, y_pred)\n",
    "r2 = r2_score(y_test, y_pred)\n",
    "\n",
    "print(\"Mean Squared Error:\", mse)\n",
    "print(\"R^2 Score:\", r2)"
   ]
  },
  {
   "cell_type": "code",
   "execution_count": null,
   "metadata": {},
   "outputs": [],
   "source": []
  }
 ],
 "metadata": {
  "kernelspec": {
   "display_name": "Python 3",
   "language": "python",
   "name": "python3"
  },
  "language_info": {
   "codemirror_mode": {
    "name": "ipython",
    "version": 3
   },
   "file_extension": ".py",
   "mimetype": "text/x-python",
   "name": "python",
   "nbconvert_exporter": "python",
   "pygments_lexer": "ipython3",
   "version": "3.11.3"
  }
 },
 "nbformat": 4,
 "nbformat_minor": 2
}
